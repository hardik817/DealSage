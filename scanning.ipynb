{
 "cells": [
  {
   "cell_type": "code",
   "execution_count": 1,
   "id": "d3763a79-8a5a-4300-8de4-93e85475af10",
   "metadata": {},
   "outputs": [],
   "source": [
    "# imports\n",
    "\n",
    "import os\n",
    "import json\n",
    "from dotenv import load_dotenv\n",
    "from openai import OpenAI\n",
    "from agents.deals import ScrapedDeal, DealSelection"
   ]
  },
  {
   "cell_type": "code",
   "execution_count": 2,
   "id": "c6469e32-16c3-4443-9475-ade710ef6933",
   "metadata": {},
   "outputs": [],
   "source": [
    "# Initialize and constants\n",
    "\n",
    "load_dotenv(override=True)\n",
    "os.environ['OPENAI_API_KEY'] = os.getenv('OPENAI_API_KEY', 'your-key-if-not-using-env')\n",
    "MODEL = 'gpt-4o-mini'\n",
    "openai = OpenAI()"
   ]
  },
  {
   "cell_type": "code",
   "execution_count": 3,
   "id": "afece9db-8cd4-46be-ac57-0b472e84da7d",
   "metadata": {},
   "outputs": [
    {
     "name": "stderr",
     "output_type": "stream",
     "text": [
      "100%|██████████| 5/5 [03:07<00:00, 37.55s/it]\n"
     ]
    }
   ],
   "source": [
    "deals = ScrapedDeal.fetch(show_progress=True)"
   ]
  },
  {
   "cell_type": "code",
   "execution_count": 4,
   "id": "8cd15c4d-eb44-4601-bf0c-f945c1d8e3ec",
   "metadata": {},
   "outputs": [
    {
     "data": {
      "text/plain": [
       "50"
      ]
     },
     "execution_count": 4,
     "metadata": {},
     "output_type": "execute_result"
    }
   ],
   "source": [
    "len(deals)"
   ]
  },
  {
   "cell_type": "code",
   "execution_count": 5,
   "id": "4259f30a-6455-49ed-8863-2f9ddd4776cb",
   "metadata": {},
   "outputs": [
    {
     "data": {
      "text/plain": [
       "\"Title: Lowe's July 4th Grills & Outdoor Cooking Sale: Up to 55% off + free shipping w/ $35\\nDetails: We've pictured the Pit Boss 850 DX Series 840-Sq. in Black Pellet Grill with Smart Compatibility for $499 ($50 off). Some of these deals require MyLowe's Rewards membership. (It's free to join.) Members also get free shipping on orders of $35 or more. Shop Now at Lowe's\\nFeatures: \\nURL: https://www.dealnews.com/Lowes-July-4-th-Grills-Outdoor-Cooking-Sale-Up-to-55-off-free-shipping-w-35/21749073.html?iref=rss-c196\""
      ]
     },
     "execution_count": 5,
     "metadata": {},
     "output_type": "execute_result"
    }
   ],
   "source": [
    "deals[44].describe()"
   ]
  },
  {
   "cell_type": "code",
   "execution_count": 6,
   "id": "8100e5ac-38f5-40c1-a712-08ae12c85038",
   "metadata": {},
   "outputs": [],
   "source": [
    "system_prompt = \"\"\"You identify and summarize the 5 most detailed deals from a list, by selecting deals that have the most detailed, high quality description and the most clear price.\n",
    "Respond strictly in JSON with no explanation, using this format. You should provide the price as a number derived from the description. If the price of a deal isn't clear, do not include that deal in your response.\n",
    "Most important is that you respond with the 5 deals that have the most detailed product description with price. It's not important to mention the terms of the deal; most important is a thorough description of the product.\n",
    "Be careful with products that are described as \"$XXX off\" or \"reduced by $XXX\" - this isn't the actual price of the product. Only respond with products when you are highly confident about the price. \n",
    "\n",
    "{\"deals\": [\n",
    "    {\n",
    "        \"product_description\": \"Your clearly expressed summary of the product in 4-5 sentences. Details of the item are much more important than why it's a good deal. Avoid mentioning discounts and coupons; focus on the item itself. There should be a paragpraph of text for each item you choose.\",\n",
    "        \"price\": 99.99,\n",
    "        \"url\": \"the url as provided\"\n",
    "    },\n",
    "    ...\n",
    "]}\"\"\""
   ]
  },
  {
   "cell_type": "code",
   "execution_count": 7,
   "id": "f4bca170-af71-40c9-9597-1d72980c74d8",
   "metadata": {},
   "outputs": [],
   "source": [
    "user_prompt = \"\"\"Respond with the most promising 5 deals from this list, selecting those which have the most detailed, high quality product description and a clear price.\n",
    "Respond strictly in JSON, and only JSON. You should rephrase the description to be a summary of the product itself, not the terms of the deal.\n",
    "Remember to respond with a paragraph of text in the product_description field for each of the 5 items that you select.\n",
    "Be careful with products that are described as \"$XXX off\" or \"reduced by $XXX\" - this isn't the actual price of the product. Only respond with products when you are highly confident about the price. \n",
    "\n",
    "Deals:\n",
    "\n",
    "\"\"\"\n",
    "user_prompt += '\\n\\n'.join([deal.describe() for deal in deals])"
   ]
  },
  {
   "cell_type": "code",
   "execution_count": 8,
   "id": "020947a6-561b-417b-98a0-a085e31d2ce3",
   "metadata": {},
   "outputs": [
    {
     "name": "stdout",
     "output_type": "stream",
     "text": [
      "Respond with the most promising 5 deals from this list, selecting those which have the most detailed, high quality product description and a clear price.\n",
      "Respond strictly in JSON, and only JSON. You should rephrase the description to be a summary of the product itself, not the terms of the deal.\n",
      "Remember to respond with a paragraph of text in the product_description field for each of the 5 items that you select.\n",
      "Be careful with products that are described as \"$XXX off\" or \"reduced by $XXX\" - this isn't the actual price of the product. Only respond with products when you are highly confident about the price. \n",
      "\n",
      "Deals:\n",
      "\n",
      "Title: Macy's July 4th Sale: Up to 80% off + free shipping w/ $25\n",
      "Details: Shop the Macy's 4th of July sale and get deals up to 80% off on clothing, home goods, electronics, beauty, and more. We found great deals on brands like Levi's, Lacoste, Calvin Klein, adidas, and more. Plus, Star Rewards members will get free shipping on everything over $25 (it's free to join). Shop Now at Macy's\n",
      "Features: \n",
      "URL: https://www.dealnews.com/Macys-July-4-th-Sale-Up-to-80-off-free-shipping-w-25/21749097.html?iref=rss-c142\n",
      "\n",
      "Title: Refurb Viture XR/AR Glasses and Accessories at eBay: Extra 20% off w/ Coupon + free shipping\n",
      "Details: Apply coupon code \"JULYFINDS\" to get an extra 20% off a selection of Viture XR and AR glasses at eBay. Most of these include a 2-year Allstate warranty. Shop Now at eBay\n",
      "Features: \n",
      "URL: https://www.dealnews.com/Refurb-Viture-XR-AR-Glasses-and-Accessories-at-eBay-Extra-20-off-w-Coupon-free-shipping/21749087.html?iref=rss-c142\n",
      "\n",
      "Title: Refurb Unlocked Apple iPhone 14 Pro Max 512GB Smartphone for $567 + free shipping\n",
      "Details: Apply coupon code \"JULYFINDS\" to get the best price we've seen on the refurbished Apple iPhone 14 Pro Max 512GB. It includes a 1-year Allstate warranty. Buy Now at eBay\n",
      "Features: \n",
      "URL: https://www.dealnews.com/products/Apple/Unlocked-Apple-iPhone-14-Pro-Max-512-GB-Smartphone/491276.html?iref=rss-c142\n",
      "\n",
      "Title: Refurb Unlocked A\n"
     ]
    }
   ],
   "source": [
    "print(user_prompt[:2000])"
   ]
  },
  {
   "cell_type": "code",
   "execution_count": 9,
   "id": "aa83bef0",
   "metadata": {},
   "outputs": [],
   "source": [
    "gemini = os.getenv(\"GEMINI_API_KEY\")\n",
    "openai=OpenAI(api_key=gemini, base_url=\"https://generativelanguage.googleapis.com/v1beta/openai/\")"
   ]
  },
  {
   "cell_type": "code",
   "execution_count": 12,
   "id": "7de46f74-868c-4127-8a68-cf2da7d600bb",
   "metadata": {},
   "outputs": [],
   "source": [
    "def get_recommendations():\n",
    "    completion = openai.beta.chat.completions.parse(\n",
    "        model=\"gemini-2.0-flash\",\n",
    "        messages=[\n",
    "            {\"role\": \"system\", \"content\": system_prompt},\n",
    "            {\"role\": \"user\", \"content\": user_prompt}\n",
    "      ],\n",
    "        response_format=DealSelection\n",
    "    )\n",
    "    result = completion.choices[0].message.parsed\n",
    "    return result"
   ]
  },
  {
   "cell_type": "code",
   "execution_count": 13,
   "id": "4c06270d-8c17-4d5a-9cfe-b6cefe788d5e",
   "metadata": {},
   "outputs": [],
   "source": [
    "result = get_recommendations()"
   ]
  },
  {
   "cell_type": "code",
   "execution_count": 14,
   "id": "84e62845-3338-441a-8161-c70097af4773",
   "metadata": {},
   "outputs": [
    {
     "data": {
      "text/plain": [
       "5"
      ]
     },
     "execution_count": 14,
     "metadata": {},
     "output_type": "execute_result"
    }
   ],
   "source": [
    "len(result.deals)"
   ]
  },
  {
   "cell_type": "code",
   "execution_count": 15,
   "id": "e5554a0a-ae40-4684-ad3e-faa3d22e030c",
   "metadata": {},
   "outputs": [
    {
     "data": {
      "text/plain": [
       "Deal(product_description='The Sonos Era 100 is a powerful smart speaker that delivers high-quality audio. It features Alexa-enabled Bluetooth, Wi-Fi, and USB connectivity. With Trueplay tuning technology, the speaker analyzes the acoustics of your space to optimize the EQ. The Sonos app provides easy control and customization options. The model number is E10G1US1.', price=119.0, url='https://www.dealnews.com/products/Sonos/Sonos-Era-100-Bluetooth-Smart-Speaker/488007.html?iref=rss-c142')"
      ]
     },
     "execution_count": 15,
     "metadata": {},
     "output_type": "execute_result"
    }
   ],
   "source": [
    "result.deals[1]"
   ]
  },
  {
   "cell_type": "code",
   "execution_count": 16,
   "id": "8bdc57fb-7497-47af-a643-6ba5a21cc17e",
   "metadata": {},
   "outputs": [],
   "source": [
    "from agents.scanner_agent import ScannerAgent"
   ]
  },
  {
   "cell_type": "code",
   "execution_count": 17,
   "id": "132278bc-217a-43a6-b6c4-724140c6a225",
   "metadata": {},
   "outputs": [],
   "source": [
    "agent = ScannerAgent()\n",
    "result = agent.scan()"
   ]
  },
  {
   "cell_type": "code",
   "execution_count": null,
   "id": "2e1d013a-c930-4dad-901b-41433379e14b",
   "metadata": {},
   "outputs": [
    {
     "data": {
      "text/plain": [
       "DealSelection(deals=[Deal(product_description='This is a refurbished Pioneer DMH-W2770NEX multimedia receiver, designed for in-car entertainment and connectivity. It features a 6.8-inch capacitive touchscreen, offering intuitive control. The unit supports both Apple CarPlay and Android Auto for seamless smartphone integration, along with built-in Bluetooth and WiFi for wireless connectivity. Additionally, it is compatible with rear-view cameras and includes Amazon Alexa via the Vozsis app, enhancing convenience and safety on the road. A 1-year Allstate warranty is included with this device.', price=275.0, url='https://www.dealnews.com/products/Pioneer/Pioneer-DMH-W2770-NEX-Multimedia-Receiver-with-Wireless-Car-Play/490754.html?iref=rss-c238'), Deal(product_description=\"This comprehensive Jackery 5000 Plus 10kWh Whole Home Backup Kit is a solar generator system designed to provide uninterrupted power for your entire home. It features a Smart Transfer Switch for seamless power monitoring and automatic transition during outages, ensuring a 0-ms UPS for critical devices. The system boasts a robust 7200-watt continuous output with a 14400-watt peak, capable of powering nearly all household appliances at both 120V and 240V. With a long-lasting 10-year LFP Battery delivering over 4000 cycles, it's built for durability and can also help save on electricity bills by optimizing peak and off-peak rates.\", price=6000.0, url='https://www.dealnews.com/Jackery-5000-Plus-10-k-Wh-Whole-Home-Backup-Kit-w-500-W-Solar-Panel-2-Pack-for-6-000-free-shipping/21746614.html?iref=rss-f1912'), Deal(product_description='The Samsung Bespoke Jet Bot Combo is an advanced robot vacuum and mop designed for comprehensive floor cleaning, complete with an All-in-One Clean Station. It utilizes LiDAR navigation combined with 3D mapping technology for precise and efficient movement throughout your home. The unit features Auto Wash and Auto Steam functions, ensuring thorough cleaning of hard floors, and can detect different floor types to optimize its cleaning method. Full control and monitoring are available via an intuitive app, offering a convenient, hands-free cleaning experience.', price=999.0, url='https://www.dealnews.com/products/Samsung/Samsung-Bespoke-Jet-Bot-Combo-Robot-Vacuum-Mop-w-All-in-One-Clean-Station/490288.html?iref=rss-f1912'), Deal(product_description='This is a refurbished Tineco Floor ONE S6, a cordless wet and dry vacuum cleaner engineered for versatile home cleaning. It efficiently tackles both wet spills and dry messes, making it suitable for various floor types. The vacuum features an advanced self-cleaning system, ensuring hygienic operation, and offers dual-sided edge cleaning for thorough coverage along baseboards and furniture. Equipped with iLoop smart sensor technology, it intelligently adjusts suction power based on dirt levels. Its cordless design provides ultimate convenience and freedom of movement during cleaning tasks, backed by a 1-year Allstate warranty.', price=220.0, url='https://www.dealnews.com/Refurb-Tineco-Floor-ONE-S6-Cordless-Wet-Dry-Vacuum-for-220-free-shipping-w-Prime/21746705.html?iref=rss-f1912'), Deal(product_description='The Fiskars Deluxe 4-Claw Long Handle Weeder is an innovative gardening tool designed to remove invasive weeds without the need for kneeling or harsh chemicals. It features a lengthy handle that eliminates back strain, allowing for comfortable upright weeding. Equipped with four serrated stainless steel claws, this weeder effectively grips and extracts weeds like dandelions and thistles from their roots. An easy-eject mechanism facilitates quick and clean disposal of weeds, making garden maintenance effortless. This durable tool is also backed by a lifetime Fiskars warranty.', price=49.0, url='https://www.dealnews.com/products/Fiskars-Global/Fiskars-Deluxe-4-Claw-Long-Handle-Weeder/82276.html?iref=rss-c196')])"
      ]
     },
     "execution_count": 18,
     "metadata": {},
     "output_type": "execute_result"
    },
    {
     "ename": "",
     "evalue": "",
     "output_type": "error",
     "traceback": [
      "\u001b[1;31mThe Kernel crashed while executing code in the current cell or a previous cell. \n",
      "\u001b[1;31mPlease review the code in the cell(s) to identify a possible cause of the failure. \n",
      "\u001b[1;31mClick <a href='https://aka.ms/vscodeJupyterKernelCrash'>here</a> for more info. \n",
      "\u001b[1;31mView Jupyter <a href='command:jupyter.viewOutput'>log</a> for further details."
     ]
    }
   ],
   "source": [
    "result"
   ]
  },
  {
   "cell_type": "code",
   "execution_count": null,
   "id": "5ee2e837-1f1d-42d4-8bc4-51cccc343006",
   "metadata": {},
   "outputs": [],
   "source": []
  }
 ],
 "metadata": {
  "kernelspec": {
   "display_name": "llms",
   "language": "python",
   "name": "python3"
  },
  "language_info": {
   "codemirror_mode": {
    "name": "ipython",
    "version": 3
   },
   "file_extension": ".py",
   "mimetype": "text/x-python",
   "name": "python",
   "nbconvert_exporter": "python",
   "pygments_lexer": "ipython3",
   "version": "3.11.12"
  }
 },
 "nbformat": 4,
 "nbformat_minor": 5
}
