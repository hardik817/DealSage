{
 "cells": [
  {
   "cell_type": "code",
   "execution_count": 1,
   "id": "bc0e1c1c-be6a-4395-bbbd-eeafc9330d7e",
   "metadata": {},
   "outputs": [],
   "source": [
    "# Just one import to start with!!\n",
    "\n",
    "import modal"
   ]
  },
  {
   "cell_type": "code",
   "execution_count": 2,
   "id": "f56d1e55-2a03-4ce2-bb47-2ab6b9175a02",
   "metadata": {},
   "outputs": [
    {
     "name": "stdout",
     "output_type": "stream",
     "text": [
      "- Creating objects...\n",
      "\\ Creating objects...\n",
      "/ Creating objects...\n",
      "└── -\n",
      "| Creating objects...\n",
      "└── | Creating mount \n",
      "    c:\\Users\\sachd\\Desktop\\projects\\llm_engineering\\week8\\pricer_service2.py: \n",
      "    Uploaded 0/1 files\n",
      "- Creating objects...\n",
      "└── - Creating mount \n",
      "    c:\\Users\\sachd\\Desktop\\projects\\llm_engineering\\week8\\pricer_service2.py: \n",
      "    Uploaded 0/1 files\n",
      "| Creating objects...\n",
      "└── | Creating mount \n",
      "    c:\\Users\\sachd\\Desktop\\projects\\llm_engineering\\week8\\pricer_service2.py: \n",
      "    Finalizing index of 1 files\n",
      "- Creating objects...\n",
      "└── - Creating mount \n",
      "    c:\\Users\\sachd\\Desktop\\projects\\llm_engineering\\week8\\pricer_service2.py: \n",
      "    Finalizing index of 1 files\n",
      "| Creating objects...\n",
      "├── 🔨 Created mount \n",
      "│   c:\\Users\\sachd\\Desktop\\projects\\llm_engineering\\week8\\pricer_service2.py\n",
      "└── - Creating function Pricer.*...\n",
      "- Creating objects...\n",
      "├── 🔨 Created mount \n",
      "│   c:\\Users\\sachd\\Desktop\\projects\\llm_engineering\\week8\\pricer_service2.py\n",
      "└── | Creating function Pricer.*...\n",
      "| Creating objects...\n",
      "├── 🔨 Created mount \n",
      "│   c:\\Users\\sachd\\Desktop\\projects\\llm_engineering\\week8\\pricer_service2.py\n",
      "└── - Creating function Pricer.*...\n",
      "- Creating objects...\n",
      "├── 🔨 Created mount \n",
      "│   c:\\Users\\sachd\\Desktop\\projects\\llm_engineering\\week8\\pricer_service2.py\n",
      "└── 🔨 Created function Pricer.*.\n",
      "\\ Creating objects...\n",
      "├── 🔨 Created mount \n",
      "│   c:\\Users\\sachd\\Desktop\\projects\\llm_engineering\\week8\\pricer_service2.py\n",
      "└── 🔨 Created function Pricer.*.\n",
      "\n",
      "✓ Created objects.\n",
      "├── 🔨 Created mount \n",
      "│   c:\\Users\\sachd\\Desktop\\projects\\llm_engineering\\week8\\pricer_service2.py\n",
      "└── 🔨 Created function Pricer.*.\n",
      "✓ App deployed in 4.597s! 🎉\n",
      "\n",
      "View Deployment: \n",
      "https://modal.com/apps/sachdevahardik22/main/deployed/pricer-service\n"
     ]
    }
   ],
   "source": [
    "# You can also run \"modal deploy -m pricer_service2\" at the command line in an activated environment\n",
    "\n",
    "!modal deploy -m pricer_service2"
   ]
  },
  {
   "cell_type": "code",
   "execution_count": 3,
   "id": "9e19daeb-1281-484b-9d2f-95cc6fed2622",
   "metadata": {},
   "outputs": [
    {
     "name": "stdout",
     "output_type": "stream",
     "text": [
      "84.0\n"
     ]
    }
   ],
   "source": [
    "Pricer = modal.Cls.from_name(\"pricer-service\", \"Pricer\")\n",
    "pricer = Pricer()\n",
    "reply = pricer.price.remote(\"Quadcast HyperX condenser mic, connects via usb-c to your computer for crystal clear audio\")\n",
    "print(reply)"
   ]
  },
  {
   "cell_type": "markdown",
   "id": "3754cfdd-ae28-47c8-91f2-6e060e2c91b3",
   "metadata": {},
   "source": [
    "## Agent class"
   ]
  },
  {
   "cell_type": "code",
   "execution_count": 4,
   "id": "ba9aedca-6a7b-4d30-9f64-59d76f76fb6d",
   "metadata": {},
   "outputs": [],
   "source": [
    "from agents.specialist_agent import SpecialistAgent"
   ]
  },
  {
   "cell_type": "code",
   "execution_count": 5,
   "id": "fe5843e5-e958-4a65-8326-8f5b4686de7f",
   "metadata": {},
   "outputs": [
    {
     "data": {
      "text/plain": [
       "299.0"
      ]
     },
     "execution_count": 5,
     "metadata": {},
     "output_type": "execute_result"
    }
   ],
   "source": [
    "agent = SpecialistAgent()\n",
    "agent.price(\"iPad Pro 2nd generation\")"
   ]
  }
 ],
 "metadata": {
  "kernelspec": {
   "display_name": "llms",
   "language": "python",
   "name": "python3"
  },
  "language_info": {
   "codemirror_mode": {
    "name": "ipython",
    "version": 3
   },
   "file_extension": ".py",
   "mimetype": "text/x-python",
   "name": "python",
   "nbconvert_exporter": "python",
   "pygments_lexer": "ipython3",
   "version": "3.11.12"
  }
 },
 "nbformat": 4,
 "nbformat_minor": 5
}
